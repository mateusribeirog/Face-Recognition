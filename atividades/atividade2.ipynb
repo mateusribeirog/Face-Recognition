{
 "cells": [
  {
   "cell_type": "code",
   "execution_count": null,
   "id": "74f63eb5",
   "metadata": {},
   "outputs": [],
   "source": [
    "from utils import modelos, compara_todos"
   ]
  },
  {
   "cell_type": "code",
   "execution_count": null,
   "id": "163196e4",
   "metadata": {},
   "outputs": [],
   "source": []
  }
 ],
 "metadata": {
  "kernelspec": {
   "display_name": "Python 3",
   "language": "python",
   "name": "python3"
  },
  "language_info": {
   "name": "python",
   "version": "3.11.0"
  }
 },
 "nbformat": 4,
 "nbformat_minor": 5
}
