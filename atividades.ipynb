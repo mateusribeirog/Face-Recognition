{
 "cells": [
  {
   "cell_type": "code",
   "execution_count": null,
   "id": "43658d21",
   "metadata": {},
   "outputs": [],
   "source": [
    "from utils.compara_todos import compara_todos"
   ]
  },
  {
   "cell_type": "markdown",
   "id": "e8461416",
   "metadata": {},
   "source": [
    "## Atividade 2"
   ]
  },
  {
   "cell_type": "code",
   "execution_count": null,
   "id": "163196e4",
   "metadata": {},
   "outputs": [],
   "source": [
    "d, i = compara_todos('./transformed_data/recfaces_20x20_sem_pca_sem_norm.dat', 50, 80)\n"
   ]
  },
  {
   "cell_type": "code",
   "execution_count": null,
   "id": "a96b22b7",
   "metadata": {},
   "outputs": [],
   "source": [
    "d, i = compara_todos('./transformed_data/recfaces_20x20_sem_pca_zscore.dat', 50, 80)"
   ]
  },
  {
   "cell_type": "code",
   "execution_count": null,
   "id": "d6cf4cbe",
   "metadata": {},
   "outputs": [],
   "source": [
    "d, i = compara_todos('./transformed_data/recfaces_20x20_sem_pca_minmax01.dat', 50, 80)"
   ]
  },
  {
   "cell_type": "code",
   "execution_count": null,
   "id": "aa314ad3",
   "metadata": {},
   "outputs": [],
   "source": [
    "d, i = compara_todos('./transformed_data/recfaces_20x20_sem_pca_minmax11.dat', 50, 80)"
   ]
  },
  {
   "cell_type": "markdown",
   "id": "38238484",
   "metadata": {},
   "source": [
    "## Atividade 4"
   ]
  },
  {
   "cell_type": "code",
   "execution_count": null,
   "id": "f1fd8478",
   "metadata": {},
   "outputs": [],
   "source": [
    "d, i = compara_todos('./transformed_data/recfaces_20x20_pca_sem_reducao.dat', 50, 80)"
   ]
  },
  {
   "cell_type": "markdown",
   "id": "fe380263",
   "metadata": {},
   "source": [
    "## Atividade 6"
   ]
  },
  {
   "cell_type": "code",
   "execution_count": null,
   "id": "d1dad519",
   "metadata": {},
   "outputs": [],
   "source": [
    "d, i = compara_todos('./transformed_data/recfaces_20x20_pca_com_reducao.dat', 50, 80)"
   ]
  },
  {
   "cell_type": "markdown",
   "id": "6daf8e06",
   "metadata": {},
   "source": [
    "## Atividade 7"
   ]
  },
  {
   "cell_type": "code",
   "execution_count": null,
   "id": "264a3cae",
   "metadata": {},
   "outputs": [],
   "source": [
    "d, i = compara_todos('./transformed_data/recfaces_20x20_boxcox_pca.dat', 50, 80)"
   ]
  },
  {
   "cell_type": "markdown",
   "id": "49ef0aeb",
   "metadata": {},
   "source": [
    "## Atividade 8"
   ]
  },
  {
   "cell_type": "code",
   "execution_count": null,
   "id": "8a8352d0",
   "metadata": {},
   "outputs": [],
   "source": [
    "from modelos_intrusos import avaliar, modelo1, modelo2\n",
    "from IPython.display import display"
   ]
  },
  {
   "cell_type": "markdown",
   "id": "f47113df",
   "metadata": {},
   "source": [
    "### Com limiar = 95"
   ]
  },
  {
   "cell_type": "code",
   "execution_count": null,
   "id": "399a3d93",
   "metadata": {},
   "outputs": [],
   "source": [
    "print(\"AVALIANDO MODELO 1 (Mahalanobis com Limiar)\")\n",
    "d1 = avaliar(modelo1, 'modelo_1_data.dat', 50, 80, 16, 95)\n",
    "display(d1)\n",
    "\n",
    "print(\"\\nAVALIANDO MODELO 2 (Euclidiano com Limiar)\")\n",
    "d2 = avaliar(modelo2, 'modelo_2_data.dat', 50, 80, 16, 95)\n",
    "display(d2)\n"
   ]
  },
  {
   "cell_type": "markdown",
   "id": "4a7879c1",
   "metadata": {},
   "source": [
    "### Outro individuo"
   ]
  },
  {
   "cell_type": "code",
   "execution_count": null,
   "id": "0455a199",
   "metadata": {},
   "outputs": [],
   "source": [
    "print(\"AVALIANDO MODELO 1 (Mahalanobis com Limiar)\")\n",
    "d1 = avaliar(modelo1, 'modelo_1_data.dat', 50, 80, 5, 95)\n",
    "display(d1)\n",
    "\n",
    "print(\"\\nAVALIANDO MODELO 2 (Euclidiano com Limiar)\")\n",
    "d2 = avaliar(modelo2, 'modelo_2_data.dat', 50, 80, 5, 95)\n",
    "display(d2)"
   ]
  }
 ],
 "metadata": {
  "kernelspec": {
   "display_name": "Python 3",
   "language": "python",
   "name": "python3"
  },
  "language_info": {
   "codemirror_mode": {
    "name": "ipython",
    "version": 3
   },
   "file_extension": ".py",
   "mimetype": "text/x-python",
   "name": "python",
   "nbconvert_exporter": "python",
   "pygments_lexer": "ipython3",
   "version": "3.11.0"
  }
 },
 "nbformat": 4,
 "nbformat_minor": 5
}
