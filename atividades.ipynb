{
 "cells": [
  {
   "cell_type": "code",
   "execution_count": null,
   "id": "43658d21",
   "metadata": {},
   "outputs": [],
   "source": [
    "from utils.compara_todos import compara_todos"
   ]
  },
  {
   "cell_type": "markdown",
   "id": "e8461416",
   "metadata": {},
   "source": [
    "## Atividade 2"
   ]
  },
  {
   "cell_type": "code",
   "execution_count": null,
   "id": "163196e4",
   "metadata": {},
   "outputs": [],
   "source": [
    "d, i = compara_todos('./transformed_data/recfaces_20x20_sem_pca_sem_norm.dat', 50, 80)\n"
   ]
  },
  {
   "cell_type": "code",
   "execution_count": null,
   "id": "a96b22b7",
   "metadata": {},
   "outputs": [],
   "source": [
    "d, i = compara_todos('./transformed_data/recfaces_20x20_sem_pca_zscore.dat', 50, 80)"
   ]
  },
  {
   "cell_type": "code",
   "execution_count": null,
   "id": "d6cf4cbe",
   "metadata": {},
   "outputs": [],
   "source": [
    "d, i = compara_todos('./transformed_data/recfaces_20x20_sem_pca_minmax01.dat', 50, 80)"
   ]
  },
  {
   "cell_type": "code",
   "execution_count": null,
   "id": "aa314ad3",
   "metadata": {},
   "outputs": [],
   "source": [
    "d, i = compara_todos('./transformed_data/recfaces_20x20_sem_pca_minmax11.dat', 50, 80)"
   ]
  },
  {
   "cell_type": "markdown",
   "id": "38238484",
   "metadata": {},
   "source": [
    "## Atividade 4"
   ]
  },
  {
   "cell_type": "code",
   "execution_count": null,
   "id": "f1fd8478",
   "metadata": {},
   "outputs": [],
   "source": [
    "d, i = compara_todos('./transformed_data/recfaces_20x20_pca_sem_reducao.dat', 50, 80)"
   ]
  },
  {
   "cell_type": "markdown",
   "id": "fe380263",
   "metadata": {},
   "source": [
    "## Atividade 6"
   ]
  },
  {
   "cell_type": "code",
   "execution_count": null,
   "id": "d1dad519",
   "metadata": {},
   "outputs": [],
   "source": [
    "d, i = compara_todos('./transformed_data/recfaces_20x20_pca_com_reducao.dat', 50, 80)"
   ]
  },
  {
   "cell_type": "markdown",
   "id": "6daf8e06",
   "metadata": {},
   "source": [
    "## Atividade 7"
   ]
  },
  {
   "cell_type": "code",
   "execution_count": null,
   "id": "264a3cae",
   "metadata": {},
   "outputs": [],
   "source": [
    "d, i = compara_todos('./transformed_data/recfaces_20x20_boxcox_pca.dat', 50, 80)"
   ]
  },
  {
   "cell_type": "markdown",
   "id": "49ef0aeb",
   "metadata": {},
   "source": [
    "## Atividade 8"
   ]
  },
  {
   "cell_type": "code",
   "execution_count": null,
   "id": "399a3d93",
   "metadata": {},
   "outputs": [],
   "source": [
    "from modelos_intrusos import avaliar, modelo1, modelo2\n",
    "from IPython.display import display"
   ]
  },
  {
   "cell_type": "code",
   "execution_count": null,
   "id": "5b68eb8b",
   "metadata": {},
   "outputs": [],
   "source": [
    "d1 = avaliar(modelo1, 'modelo_1_data.dat', 50, 80, intruso = 16)\n",
    "d1"
   ]
  },
  {
   "cell_type": "code",
   "execution_count": null,
   "id": "0fe7b5d5",
   "metadata": {},
   "outputs": [],
   "source": [
    "d2 = avaliar(modelo2, 'modelo_2_data.dat', 50, 80, intruso = 16)\n",
    "d2"
   ]
  },
  {
   "cell_type": "code",
   "execution_count": null,
   "id": "707d3696",
   "metadata": {},
   "outputs": [],
   "source": [
    "d1_test = avaliar(modelo1, 'modelo_1_data.dat', 50, 80, intruso = 15)\n",
    "d1_test"
   ]
  },
  {
   "cell_type": "code",
   "execution_count": null,
   "id": "d6a8a5f6",
   "metadata": {},
   "outputs": [],
   "source": [
    "d2_test = avaliar(modelo2, 'modelo_2_data.dat', 50, 80, intruso = 15)\n",
    "d2_test"
   ]
  }
 ],
 "metadata": {
  "kernelspec": {
   "display_name": "Python 3",
   "language": "python",
   "name": "python3"
  },
  "language_info": {
   "codemirror_mode": {
    "name": "ipython",
    "version": 3
   },
   "file_extension": ".py",
   "mimetype": "text/x-python",
   "name": "python",
   "nbconvert_exporter": "python",
   "pygments_lexer": "ipython3",
   "version": "3.11.0"
  }
 },
 "nbformat": 4,
 "nbformat_minor": 5
}
