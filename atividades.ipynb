{
 "cells": [
  {
   "cell_type": "code",
   "execution_count": null,
   "id": "43658d21",
   "metadata": {},
   "outputs": [],
   "source": [
    "from utils.compara_todos import compara_todos"
   ]
  },
  {
   "cell_type": "markdown",
   "id": "e8461416",
   "metadata": {},
   "source": [
    "## Atividade 2"
   ]
  },
  {
   "cell_type": "code",
   "execution_count": null,
   "id": "163196e4",
   "metadata": {},
   "outputs": [],
   "source": [
    "d, i = compara_todos('./transformed_data/recfaces_20x20_sem_pca_sem_norm.dat', 50, 80)\n"
   ]
  },
  {
   "cell_type": "code",
   "execution_count": null,
   "id": "a96b22b7",
   "metadata": {},
   "outputs": [],
   "source": [
    "d, i = compara_todos('./transformed_data/recfaces_20x20_sem_pca_zscore.dat', 50, 80)"
   ]
  },
  {
   "cell_type": "code",
   "execution_count": null,
   "id": "d6cf4cbe",
   "metadata": {},
   "outputs": [],
   "source": [
    "d, i = compara_todos('./transformed_data/recfaces_20x20_sem_pca_minmax01.dat', 50, 80)"
   ]
  },
  {
   "cell_type": "code",
   "execution_count": null,
   "id": "aa314ad3",
   "metadata": {},
   "outputs": [],
   "source": [
    "d, i = compara_todos('./transformed_data/recfaces_20x20_sem_pca_minmax11.dat', 50, 80)"
   ]
  },
  {
   "cell_type": "markdown",
   "id": "38238484",
   "metadata": {},
   "source": [
    "## Atividade 4"
   ]
  },
  {
   "cell_type": "code",
   "execution_count": null,
   "id": "f1fd8478",
   "metadata": {},
   "outputs": [],
   "source": [
    "d, i = compara_todos('./transformed_data/recfaces_20x20_pca_sem_reducao.dat', 50, 80)"
   ]
  },
  {
   "cell_type": "markdown",
   "id": "fe380263",
   "metadata": {},
   "source": [
    "## Atividade 6"
   ]
  },
  {
   "cell_type": "code",
   "execution_count": null,
   "id": "d1dad519",
   "metadata": {},
   "outputs": [],
   "source": [
    "d, i = compara_todos('./transformed_data/recfaces_20x20_pca_com_reducao.dat', 50, 80)"
   ]
  },
  {
   "cell_type": "markdown",
   "id": "6daf8e06",
   "metadata": {},
   "source": [
    "## Atividade 7"
   ]
  },
  {
   "cell_type": "code",
   "execution_count": null,
   "id": "264a3cae",
   "metadata": {},
   "outputs": [],
   "source": [
    "d, i = compara_todos('./transformed_data/recfaces_20x20_boxcox_pca.dat', 50, 80)"
   ]
  },
  {
   "cell_type": "markdown",
   "id": "49ef0aeb",
   "metadata": {},
   "source": [
    "## Atividade 8"
   ]
  },
  {
   "cell_type": "code",
   "execution_count": 1,
   "id": "8a8352d0",
   "metadata": {},
   "outputs": [],
   "source": [
    "from modelos_intrusos import avaliar, modelo1, modelo2\n",
    "from IPython.display import display"
   ]
  },
  {
   "cell_type": "markdown",
   "id": "f47113df",
   "metadata": {},
   "source": [
    "### Com limiar = 95"
   ]
  },
  {
   "cell_type": "code",
   "execution_count": 3,
   "id": "399a3d93",
   "metadata": {},
   "outputs": [
    {
     "name": "stdout",
     "output_type": "stream",
     "text": [
      "AVALIANDO MODELO 1 (Mahalanobis com Limiar)\n"
     ]
    },
    {
     "name": "stderr",
     "output_type": "stream",
     "text": [
      "/home/mateus/Face-Recognition/.venv/lib/python3.12/site-packages/numpy/lib/_function_base_impl.py:4653: RuntimeWarning: invalid value encountered in subtract\n",
      "  diff_b_a = subtract(b, a)\n"
     ]
    },
    {
     "data": {
      "text/html": [
       "<div>\n",
       "<style scoped>\n",
       "    .dataframe tbody tr th:only-of-type {\n",
       "        vertical-align: middle;\n",
       "    }\n",
       "\n",
       "    .dataframe tbody tr th {\n",
       "        vertical-align: top;\n",
       "    }\n",
       "\n",
       "    .dataframe thead th {\n",
       "        text-align: right;\n",
       "    }\n",
       "</style>\n",
       "<table border=\"1\" class=\"dataframe\">\n",
       "  <thead>\n",
       "    <tr style=\"text-align: right;\">\n",
       "      <th></th>\n",
       "      <th>Média</th>\n",
       "      <th>Mínimo</th>\n",
       "      <th>Maximo</th>\n",
       "      <th>Mediana</th>\n",
       "      <th>Desvio Padrão</th>\n",
       "    </tr>\n",
       "  </thead>\n",
       "  <tbody>\n",
       "    <tr>\n",
       "      <th>acuracia (%)</th>\n",
       "      <td>5.72</td>\n",
       "      <td>0.00</td>\n",
       "      <td>13.89</td>\n",
       "      <td>5.56</td>\n",
       "      <td>3.29</td>\n",
       "    </tr>\n",
       "    <tr>\n",
       "      <th>taxa_falsos_positivos (%)</th>\n",
       "      <td>100.00</td>\n",
       "      <td>100.00</td>\n",
       "      <td>100.00</td>\n",
       "      <td>100.00</td>\n",
       "      <td>0.00</td>\n",
       "    </tr>\n",
       "    <tr>\n",
       "      <th>taxa_falsos_negativos (%)</th>\n",
       "      <td>0.00</td>\n",
       "      <td>0.00</td>\n",
       "      <td>0.00</td>\n",
       "      <td>0.00</td>\n",
       "      <td>0.00</td>\n",
       "    </tr>\n",
       "    <tr>\n",
       "      <th>sensibilidade (%)</th>\n",
       "      <td>98.00</td>\n",
       "      <td>0.00</td>\n",
       "      <td>100.00</td>\n",
       "      <td>100.00</td>\n",
       "      <td>14.14</td>\n",
       "    </tr>\n",
       "    <tr>\n",
       "      <th>precisao (%)</th>\n",
       "      <td>5.72</td>\n",
       "      <td>0.00</td>\n",
       "      <td>13.89</td>\n",
       "      <td>5.56</td>\n",
       "      <td>3.29</td>\n",
       "    </tr>\n",
       "  </tbody>\n",
       "</table>\n",
       "</div>"
      ],
      "text/plain": [
       "                           Média  Mínimo  Maximo  Mediana  Desvio Padrão\n",
       "acuracia (%)                5.72    0.00   13.89     5.56           3.29\n",
       "taxa_falsos_positivos (%) 100.00  100.00  100.00   100.00           0.00\n",
       "taxa_falsos_negativos (%)   0.00    0.00    0.00     0.00           0.00\n",
       "sensibilidade (%)          98.00    0.00  100.00   100.00          14.14\n",
       "precisao (%)                5.72    0.00   13.89     5.56           3.29"
      ]
     },
     "metadata": {},
     "output_type": "display_data"
    },
    {
     "name": "stdout",
     "output_type": "stream",
     "text": [
      "\n",
      "AVALIANDO MODELO 2 (Euclidiano com Limiar)\n"
     ]
    },
    {
     "data": {
      "text/html": [
       "<div>\n",
       "<style scoped>\n",
       "    .dataframe tbody tr th:only-of-type {\n",
       "        vertical-align: middle;\n",
       "    }\n",
       "\n",
       "    .dataframe tbody tr th {\n",
       "        vertical-align: top;\n",
       "    }\n",
       "\n",
       "    .dataframe thead th {\n",
       "        text-align: right;\n",
       "    }\n",
       "</style>\n",
       "<table border=\"1\" class=\"dataframe\">\n",
       "  <thead>\n",
       "    <tr style=\"text-align: right;\">\n",
       "      <th></th>\n",
       "      <th>Média</th>\n",
       "      <th>Mínimo</th>\n",
       "      <th>Maximo</th>\n",
       "      <th>Mediana</th>\n",
       "      <th>Desvio Padrão</th>\n",
       "    </tr>\n",
       "  </thead>\n",
       "  <tbody>\n",
       "    <tr>\n",
       "      <th>acuracia (%)</th>\n",
       "      <td>70.22</td>\n",
       "      <td>50.00</td>\n",
       "      <td>88.89</td>\n",
       "      <td>69.44</td>\n",
       "      <td>8.75</td>\n",
       "    </tr>\n",
       "    <tr>\n",
       "      <th>taxa_falsos_positivos (%)</th>\n",
       "      <td>26.06</td>\n",
       "      <td>8.82</td>\n",
       "      <td>48.57</td>\n",
       "      <td>25.71</td>\n",
       "      <td>8.88</td>\n",
       "    </tr>\n",
       "    <tr>\n",
       "      <th>taxa_falsos_negativos (%)</th>\n",
       "      <td>87.33</td>\n",
       "      <td>0.00</td>\n",
       "      <td>100.00</td>\n",
       "      <td>100.00</td>\n",
       "      <td>29.22</td>\n",
       "    </tr>\n",
       "    <tr>\n",
       "      <th>sensibilidade (%)</th>\n",
       "      <td>10.67</td>\n",
       "      <td>0.00</td>\n",
       "      <td>100.00</td>\n",
       "      <td>0.00</td>\n",
       "      <td>26.41</td>\n",
       "    </tr>\n",
       "    <tr>\n",
       "      <th>precisao (%)</th>\n",
       "      <td>1.91</td>\n",
       "      <td>0.00</td>\n",
       "      <td>20.00</td>\n",
       "      <td>0.00</td>\n",
       "      <td>4.44</td>\n",
       "    </tr>\n",
       "  </tbody>\n",
       "</table>\n",
       "</div>"
      ],
      "text/plain": [
       "                           Média  Mínimo  Maximo  Mediana  Desvio Padrão\n",
       "acuracia (%)               70.22   50.00   88.89    69.44           8.75\n",
       "taxa_falsos_positivos (%)  26.06    8.82   48.57    25.71           8.88\n",
       "taxa_falsos_negativos (%)  87.33    0.00  100.00   100.00          29.22\n",
       "sensibilidade (%)          10.67    0.00  100.00     0.00          26.41\n",
       "precisao (%)                1.91    0.00   20.00     0.00           4.44"
      ]
     },
     "metadata": {},
     "output_type": "display_data"
    }
   ],
   "source": [
    "print(\"AVALIANDO MODELO 1 (Mahalanobis com Limiar)\")\n",
    "d1 = avaliar(modelo1, 'modelo_1_data.dat', 50, 80, 16, 95)\n",
    "display(d1)\n",
    "\n",
    "print(\"\\nAVALIANDO MODELO 2 (Euclidiano com Limiar)\")\n",
    "d2 = avaliar(modelo2, 'modelo_2_data.dat', 50, 80, 16, 95)\n",
    "display(d2)\n"
   ]
  },
  {
   "cell_type": "markdown",
   "id": "4a7879c1",
   "metadata": {},
   "source": [
    "### Outro individuo"
   ]
  },
  {
   "cell_type": "code",
   "execution_count": 12,
   "id": "0455a199",
   "metadata": {},
   "outputs": [
    {
     "name": "stdout",
     "output_type": "stream",
     "text": [
      "AVALIANDO MODELO 1 (Mahalanobis com Limiar)\n"
     ]
    },
    {
     "name": "stderr",
     "output_type": "stream",
     "text": [
      "/home/mateus/Face-Recognition/.venv/lib/python3.12/site-packages/numpy/lib/_function_base_impl.py:4653: RuntimeWarning: invalid value encountered in subtract\n",
      "  diff_b_a = subtract(b, a)\n"
     ]
    },
    {
     "data": {
      "text/html": [
       "<div>\n",
       "<style scoped>\n",
       "    .dataframe tbody tr th:only-of-type {\n",
       "        vertical-align: middle;\n",
       "    }\n",
       "\n",
       "    .dataframe tbody tr th {\n",
       "        vertical-align: top;\n",
       "    }\n",
       "\n",
       "    .dataframe thead th {\n",
       "        text-align: right;\n",
       "    }\n",
       "</style>\n",
       "<table border=\"1\" class=\"dataframe\">\n",
       "  <thead>\n",
       "    <tr style=\"text-align: right;\">\n",
       "      <th></th>\n",
       "      <th>Média</th>\n",
       "      <th>Mínimo</th>\n",
       "      <th>Maximo</th>\n",
       "      <th>Mediana</th>\n",
       "      <th>Desvio Padrão</th>\n",
       "    </tr>\n",
       "  </thead>\n",
       "  <tbody>\n",
       "    <tr>\n",
       "      <th>acuracia (%)</th>\n",
       "      <td>5.56</td>\n",
       "      <td>0.00</td>\n",
       "      <td>11.11</td>\n",
       "      <td>5.56</td>\n",
       "      <td>3.89</td>\n",
       "    </tr>\n",
       "    <tr>\n",
       "      <th>taxa_falsos_positivos (%)</th>\n",
       "      <td>100.00</td>\n",
       "      <td>100.00</td>\n",
       "      <td>100.00</td>\n",
       "      <td>100.00</td>\n",
       "      <td>0.00</td>\n",
       "    </tr>\n",
       "    <tr>\n",
       "      <th>taxa_falsos_negativos (%)</th>\n",
       "      <td>0.00</td>\n",
       "      <td>0.00</td>\n",
       "      <td>0.00</td>\n",
       "      <td>0.00</td>\n",
       "      <td>0.00</td>\n",
       "    </tr>\n",
       "    <tr>\n",
       "      <th>sensibilidade (%)</th>\n",
       "      <td>84.00</td>\n",
       "      <td>0.00</td>\n",
       "      <td>100.00</td>\n",
       "      <td>100.00</td>\n",
       "      <td>37.03</td>\n",
       "    </tr>\n",
       "    <tr>\n",
       "      <th>precisao (%)</th>\n",
       "      <td>5.56</td>\n",
       "      <td>0.00</td>\n",
       "      <td>11.11</td>\n",
       "      <td>5.56</td>\n",
       "      <td>3.89</td>\n",
       "    </tr>\n",
       "  </tbody>\n",
       "</table>\n",
       "</div>"
      ],
      "text/plain": [
       "                           Média  Mínimo  Maximo  Mediana  Desvio Padrão\n",
       "acuracia (%)                5.56    0.00   11.11     5.56           3.89\n",
       "taxa_falsos_positivos (%) 100.00  100.00  100.00   100.00           0.00\n",
       "taxa_falsos_negativos (%)   0.00    0.00    0.00     0.00           0.00\n",
       "sensibilidade (%)          84.00    0.00  100.00   100.00          37.03\n",
       "precisao (%)                5.56    0.00   11.11     5.56           3.89"
      ]
     },
     "metadata": {},
     "output_type": "display_data"
    },
    {
     "name": "stdout",
     "output_type": "stream",
     "text": [
      "\n",
      "AVALIANDO MODELO 2 (Euclidiano com Limiar)\n"
     ]
    },
    {
     "data": {
      "text/html": [
       "<div>\n",
       "<style scoped>\n",
       "    .dataframe tbody tr th:only-of-type {\n",
       "        vertical-align: middle;\n",
       "    }\n",
       "\n",
       "    .dataframe tbody tr th {\n",
       "        vertical-align: top;\n",
       "    }\n",
       "\n",
       "    .dataframe thead th {\n",
       "        text-align: right;\n",
       "    }\n",
       "</style>\n",
       "<table border=\"1\" class=\"dataframe\">\n",
       "  <thead>\n",
       "    <tr style=\"text-align: right;\">\n",
       "      <th></th>\n",
       "      <th>Média</th>\n",
       "      <th>Mínimo</th>\n",
       "      <th>Maximo</th>\n",
       "      <th>Mediana</th>\n",
       "      <th>Desvio Padrão</th>\n",
       "    </tr>\n",
       "  </thead>\n",
       "  <tbody>\n",
       "    <tr>\n",
       "      <th>acuracia (%)</th>\n",
       "      <td>70.44</td>\n",
       "      <td>47.22</td>\n",
       "      <td>83.33</td>\n",
       "      <td>72.22</td>\n",
       "      <td>7.91</td>\n",
       "    </tr>\n",
       "    <tr>\n",
       "      <th>taxa_falsos_positivos (%)</th>\n",
       "      <td>25.78</td>\n",
       "      <td>9.09</td>\n",
       "      <td>50.00</td>\n",
       "      <td>25.71</td>\n",
       "      <td>8.70</td>\n",
       "    </tr>\n",
       "    <tr>\n",
       "      <th>taxa_falsos_negativos (%)</th>\n",
       "      <td>79.00</td>\n",
       "      <td>0.00</td>\n",
       "      <td>100.00</td>\n",
       "      <td>100.00</td>\n",
       "      <td>38.25</td>\n",
       "    </tr>\n",
       "    <tr>\n",
       "      <th>sensibilidade (%)</th>\n",
       "      <td>5.00</td>\n",
       "      <td>0.00</td>\n",
       "      <td>100.00</td>\n",
       "      <td>0.00</td>\n",
       "      <td>15.97</td>\n",
       "    </tr>\n",
       "    <tr>\n",
       "      <th>precisao (%)</th>\n",
       "      <td>1.38</td>\n",
       "      <td>0.00</td>\n",
       "      <td>14.29</td>\n",
       "      <td>0.00</td>\n",
       "      <td>3.60</td>\n",
       "    </tr>\n",
       "  </tbody>\n",
       "</table>\n",
       "</div>"
      ],
      "text/plain": [
       "                           Média  Mínimo  Maximo  Mediana  Desvio Padrão\n",
       "acuracia (%)               70.44   47.22   83.33    72.22           7.91\n",
       "taxa_falsos_positivos (%)  25.78    9.09   50.00    25.71           8.70\n",
       "taxa_falsos_negativos (%)  79.00    0.00  100.00   100.00          38.25\n",
       "sensibilidade (%)           5.00    0.00  100.00     0.00          15.97\n",
       "precisao (%)                1.38    0.00   14.29     0.00           3.60"
      ]
     },
     "metadata": {},
     "output_type": "display_data"
    }
   ],
   "source": [
    "print(\"AVALIANDO MODELO 1 (Mahalanobis com Limiar)\")\n",
    "d1 = avaliar(modelo1, 'modelo_1_data.dat', 50, 80, 5, 95)\n",
    "display(d1)\n",
    "\n",
    "print(\"\\nAVALIANDO MODELO 2 (Euclidiano com Limiar)\")\n",
    "d2 = avaliar(modelo2, 'modelo_2_data.dat', 50, 80, 5, 95)\n",
    "display(d2)"
   ]
  }
 ],
 "metadata": {
  "kernelspec": {
   "display_name": "Python (RecPad Project)",
   "language": "python",
   "name": "recpad-venv"
  },
  "language_info": {
   "codemirror_mode": {
    "name": "ipython",
    "version": 3
   },
   "file_extension": ".py",
   "mimetype": "text/x-python",
   "name": "python",
   "nbconvert_exporter": "python",
   "pygments_lexer": "ipython3",
   "version": "3.12.3"
  }
 },
 "nbformat": 4,
 "nbformat_minor": 5
}
